{
 "cells": [
  {
   "cell_type": "markdown",
   "metadata": {},
   "source": [
    "# Nashville Housing Data Cleaning\n",
    "\n",
    "This dataset revolves around the housing sales in Nashville, Tennessee, and includes several key information such as sale price, sale date, land use, and property details.\n",
    "\n"
   ]
  },
  {
   "cell_type": "code",
   "execution_count": 1,
   "metadata": {},
   "outputs": [
    {
     "data": {
      "text/html": [
       "<div>\n",
       "<style scoped>\n",
       "    .dataframe tbody tr th:only-of-type {\n",
       "        vertical-align: middle;\n",
       "    }\n",
       "\n",
       "    .dataframe tbody tr th {\n",
       "        vertical-align: top;\n",
       "    }\n",
       "\n",
       "    .dataframe thead th {\n",
       "        text-align: right;\n",
       "    }\n",
       "</style>\n",
       "<table border=\"1\" class=\"dataframe\">\n",
       "  <thead>\n",
       "    <tr style=\"text-align: right;\">\n",
       "      <th></th>\n",
       "      <th>UniqueID</th>\n",
       "      <th>ParcelID</th>\n",
       "      <th>LandUse</th>\n",
       "      <th>PropertyAddress</th>\n",
       "      <th>SaleDate</th>\n",
       "      <th>SalePrice</th>\n",
       "      <th>LegalReference</th>\n",
       "      <th>SoldAsVacant</th>\n",
       "      <th>OwnerName</th>\n",
       "      <th>OwnerAddress</th>\n",
       "      <th>Acreage</th>\n",
       "      <th>TaxDistrict</th>\n",
       "      <th>LandValue</th>\n",
       "      <th>BuildingValue</th>\n",
       "      <th>TotalValue</th>\n",
       "      <th>YearBuilt</th>\n",
       "      <th>Bedrooms</th>\n",
       "      <th>FullBath</th>\n",
       "      <th>HalfBath</th>\n",
       "    </tr>\n",
       "  </thead>\n",
       "  <tbody>\n",
       "    <tr>\n",
       "      <th>0</th>\n",
       "      <td>2045</td>\n",
       "      <td>007 00 0 125.00</td>\n",
       "      <td>SINGLE FAMILY</td>\n",
       "      <td>1808  FOX CHASE DR, GOODLETTSVILLE</td>\n",
       "      <td>09-Apr-13</td>\n",
       "      <td>240000</td>\n",
       "      <td>20130412-0036474</td>\n",
       "      <td>No</td>\n",
       "      <td>FRAZIER, CYRENTHA LYNETTE</td>\n",
       "      <td>1808  FOX CHASE DR, GOODLETTSVILLE, TN</td>\n",
       "      <td>2.3</td>\n",
       "      <td>GENERAL SERVICES DISTRICT</td>\n",
       "      <td>50000.0</td>\n",
       "      <td>168200.0</td>\n",
       "      <td>235700.0</td>\n",
       "      <td>1986.0</td>\n",
       "      <td>3.0</td>\n",
       "      <td>3.0</td>\n",
       "      <td>0.0</td>\n",
       "    </tr>\n",
       "    <tr>\n",
       "      <th>1</th>\n",
       "      <td>16918</td>\n",
       "      <td>007 00 0 130.00</td>\n",
       "      <td>SINGLE FAMILY</td>\n",
       "      <td>1832  FOX CHASE DR, GOODLETTSVILLE</td>\n",
       "      <td>10-Jun-14</td>\n",
       "      <td>366000</td>\n",
       "      <td>20140619-0053768</td>\n",
       "      <td>No</td>\n",
       "      <td>BONER, CHARLES &amp; LESLIE</td>\n",
       "      <td>1832  FOX CHASE DR, GOODLETTSVILLE, TN</td>\n",
       "      <td>3.5</td>\n",
       "      <td>GENERAL SERVICES DISTRICT</td>\n",
       "      <td>50000.0</td>\n",
       "      <td>264100.0</td>\n",
       "      <td>319000.0</td>\n",
       "      <td>1998.0</td>\n",
       "      <td>3.0</td>\n",
       "      <td>3.0</td>\n",
       "      <td>2.0</td>\n",
       "    </tr>\n",
       "    <tr>\n",
       "      <th>2</th>\n",
       "      <td>54582</td>\n",
       "      <td>007 00 0 138.00</td>\n",
       "      <td>SINGLE FAMILY</td>\n",
       "      <td>1864 FOX CHASE  DR, GOODLETTSVILLE</td>\n",
       "      <td>26-Sep-16</td>\n",
       "      <td>435000</td>\n",
       "      <td>20160927-0101718</td>\n",
       "      <td>No</td>\n",
       "      <td>WILSON, JAMES E. &amp; JOANNE</td>\n",
       "      <td>1864  FOX CHASE DR, GOODLETTSVILLE, TN</td>\n",
       "      <td>2.9</td>\n",
       "      <td>GENERAL SERVICES DISTRICT</td>\n",
       "      <td>50000.0</td>\n",
       "      <td>216200.0</td>\n",
       "      <td>298000.0</td>\n",
       "      <td>1987.0</td>\n",
       "      <td>4.0</td>\n",
       "      <td>3.0</td>\n",
       "      <td>0.0</td>\n",
       "    </tr>\n",
       "    <tr>\n",
       "      <th>3</th>\n",
       "      <td>43070</td>\n",
       "      <td>007 00 0 143.00</td>\n",
       "      <td>SINGLE FAMILY</td>\n",
       "      <td>1853  FOX CHASE DR, GOODLETTSVILLE</td>\n",
       "      <td>29-Jan-16</td>\n",
       "      <td>255000</td>\n",
       "      <td>20160129-0008913</td>\n",
       "      <td>No</td>\n",
       "      <td>BAKER, JAY K. &amp; SUSAN E.</td>\n",
       "      <td>1853  FOX CHASE DR, GOODLETTSVILLE, TN</td>\n",
       "      <td>2.6</td>\n",
       "      <td>GENERAL SERVICES DISTRICT</td>\n",
       "      <td>50000.0</td>\n",
       "      <td>147300.0</td>\n",
       "      <td>197300.0</td>\n",
       "      <td>1985.0</td>\n",
       "      <td>3.0</td>\n",
       "      <td>3.0</td>\n",
       "      <td>0.0</td>\n",
       "    </tr>\n",
       "    <tr>\n",
       "      <th>4</th>\n",
       "      <td>22714</td>\n",
       "      <td>007 00 0 149.00</td>\n",
       "      <td>SINGLE FAMILY</td>\n",
       "      <td>1829  FOX CHASE DR, GOODLETTSVILLE</td>\n",
       "      <td>10-Oct-14</td>\n",
       "      <td>278000</td>\n",
       "      <td>20141015-0095255</td>\n",
       "      <td>No</td>\n",
       "      <td>POST, CHRISTOPHER M. &amp; SAMANTHA C.</td>\n",
       "      <td>1829  FOX CHASE DR, GOODLETTSVILLE, TN</td>\n",
       "      <td>2.0</td>\n",
       "      <td>GENERAL SERVICES DISTRICT</td>\n",
       "      <td>50000.0</td>\n",
       "      <td>152300.0</td>\n",
       "      <td>202300.0</td>\n",
       "      <td>1984.0</td>\n",
       "      <td>4.0</td>\n",
       "      <td>3.0</td>\n",
       "      <td>0.0</td>\n",
       "    </tr>\n",
       "  </tbody>\n",
       "</table>\n",
       "</div>"
      ],
      "text/plain": [
       "   UniqueID          ParcelID        LandUse  \\\n",
       "0       2045  007 00 0 125.00  SINGLE FAMILY   \n",
       "1      16918  007 00 0 130.00  SINGLE FAMILY   \n",
       "2      54582  007 00 0 138.00  SINGLE FAMILY   \n",
       "3      43070  007 00 0 143.00  SINGLE FAMILY   \n",
       "4      22714  007 00 0 149.00  SINGLE FAMILY   \n",
       "\n",
       "                      PropertyAddress   SaleDate SalePrice    LegalReference  \\\n",
       "0  1808  FOX CHASE DR, GOODLETTSVILLE  09-Apr-13    240000  20130412-0036474   \n",
       "1  1832  FOX CHASE DR, GOODLETTSVILLE  10-Jun-14    366000  20140619-0053768   \n",
       "2  1864 FOX CHASE  DR, GOODLETTSVILLE  26-Sep-16    435000  20160927-0101718   \n",
       "3  1853  FOX CHASE DR, GOODLETTSVILLE  29-Jan-16    255000  20160129-0008913   \n",
       "4  1829  FOX CHASE DR, GOODLETTSVILLE  10-Oct-14    278000  20141015-0095255   \n",
       "\n",
       "  SoldAsVacant                           OwnerName  \\\n",
       "0           No           FRAZIER, CYRENTHA LYNETTE   \n",
       "1           No             BONER, CHARLES & LESLIE   \n",
       "2           No           WILSON, JAMES E. & JOANNE   \n",
       "3           No            BAKER, JAY K. & SUSAN E.   \n",
       "4           No  POST, CHRISTOPHER M. & SAMANTHA C.   \n",
       "\n",
       "                             OwnerAddress  Acreage                TaxDistrict  \\\n",
       "0  1808  FOX CHASE DR, GOODLETTSVILLE, TN      2.3  GENERAL SERVICES DISTRICT   \n",
       "1  1832  FOX CHASE DR, GOODLETTSVILLE, TN      3.5  GENERAL SERVICES DISTRICT   \n",
       "2  1864  FOX CHASE DR, GOODLETTSVILLE, TN      2.9  GENERAL SERVICES DISTRICT   \n",
       "3  1853  FOX CHASE DR, GOODLETTSVILLE, TN      2.6  GENERAL SERVICES DISTRICT   \n",
       "4  1829  FOX CHASE DR, GOODLETTSVILLE, TN      2.0  GENERAL SERVICES DISTRICT   \n",
       "\n",
       "   LandValue  BuildingValue  TotalValue  YearBuilt  Bedrooms  FullBath  \\\n",
       "0    50000.0       168200.0    235700.0     1986.0       3.0       3.0   \n",
       "1    50000.0       264100.0    319000.0     1998.0       3.0       3.0   \n",
       "2    50000.0       216200.0    298000.0     1987.0       4.0       3.0   \n",
       "3    50000.0       147300.0    197300.0     1985.0       3.0       3.0   \n",
       "4    50000.0       152300.0    202300.0     1984.0       4.0       3.0   \n",
       "\n",
       "   HalfBath  \n",
       "0       0.0  \n",
       "1       2.0  \n",
       "2       0.0  \n",
       "3       0.0  \n",
       "4       0.0  "
      ]
     },
     "execution_count": 1,
     "metadata": {},
     "output_type": "execute_result"
    }
   ],
   "source": [
    "import pandas as pd\n",
    "# Read CSV data into pandas DataFrame\n",
    "df =pd.read_csv(r'C:\\Users\\Honar\\Downloads\\Nashville.csv')\n",
    "df.head(5)"
   ]
  },
  {
   "cell_type": "markdown",
   "metadata": {},
   "source": [
    "### Data Preparation and Cleaning\n",
    "The insight that we want to derive from the data mainly revolves around sales and land use. Therefore, we need to ensure that the data related to these points are of good quality, and that could be achieved through the process of data cleaning.\n"
   ]
  },
  {
   "cell_type": "code",
   "execution_count": 2,
   "metadata": {},
   "outputs": [],
   "source": [
    "\"\"\"updates column names for consistency and converts specific columns to numerical types,\n",
    "    followed by converting  for example 'sale_date' to datetime format.\"\"\"\n",
    "\n",
    "# Rename columns\n",
    "df = df.rename(columns={\n",
    "    'UniqueID ': 'unique_id',\n",
    "    'ParcelID': 'parcel_id',\n",
    "    'LandUse': 'land_use',\n",
    "    'PropertyAddress': 'property_address',\n",
    "    'SaleDate': 'sale_date',\n",
    "    'SalePrice': 'sale_price',\n",
    "    'LegalReference': 'legal_reference',\n",
    "    'SoldAsVacant': 'sold_as_vacant',\n",
    "    'OwnerName': 'owner_name',\n",
    "    'OwnerAddress': 'owner_address',\n",
    "    'Acreage': 'acreage',\n",
    "    'TaxDistrict': 'tax_district',\n",
    "    'LandValue': 'land_value',\n",
    "    'BuildingValue': 'building_value',\n",
    "    'TotalValue': 'total_value',\n",
    "    'YearBuilt': 'year_built',\n",
    "    'Bedrooms': 'bedrooms',\n",
    "    'FullBath': 'full_bath',\n",
    "    'HalfBath': 'half_bath'\n",
    "})\n",
    "# Convert specific columns to numeric\n",
    "numeric_cols = ['sale_price', 'land_value', 'building_value', 'acreage', \n",
    "                'total_value', 'year_built', 'bedrooms', 'full_bath', 'half_bath']\n",
    "df[numeric_cols] = df[numeric_cols].apply(pd.to_numeric, errors='coerce')\n",
    "\n",
    "# Convert 'sale_date' to datetime if it's not already\n",
    "df['sale_date'] = pd.to_datetime(df['sale_date'], errors='coerce', format='%d-%b-%y')"
   ]
  },
  {
   "cell_type": "markdown",
   "metadata": {},
   "source": [
    "**city and address :**  Extract from property_address"
   ]
  },
  {
   "cell_type": "code",
   "execution_count": 3,
   "metadata": {},
   "outputs": [
    {
     "data": {
      "text/plain": [
       "0        GOODLETTSVILLE\n",
       "1        GOODLETTSVILLE\n",
       "2        GOODLETTSVILLE\n",
       "3        GOODLETTSVILLE\n",
       "4        GOODLETTSVILLE\n",
       "              ...      \n",
       "56472       NOLENSVILLE\n",
       "56473       NOLENSVILLE\n",
       "56474       NOLENSVILLE\n",
       "56475       NOLENSVILLE\n",
       "56476       NOLENSVILLE\n",
       "Name: city, Length: 56477, dtype: object"
      ]
     },
     "execution_count": 3,
     "metadata": {},
     "output_type": "execute_result"
    }
   ],
   "source": [
    "df[['Address', 'city']] = df['property_address'].str.rsplit(', ', n=1, expand=True)\n",
    "df['city']"
   ]
  },
  {
   "cell_type": "markdown",
   "metadata": {},
   "source": [
    "**sold_as_vacant:** included 'Y', 'Yes' and 'N', 'No'.  \n",
    "It needs to Replace 'Y' with 'Yes' and 'N' with 'No' in the 'sold_as_vacant' column."
   ]
  },
  {
   "cell_type": "code",
   "execution_count": 4,
   "metadata": {},
   "outputs": [
    {
     "name": "stdout",
     "output_type": "stream",
     "text": [
      " Values Count of sold_as_vacant before replacing:\n",
      "sold_as_vacant\n",
      "No     51403\n",
      "Yes     4623\n",
      "N        399\n",
      "Y         52\n",
      "Name: count, dtype: int64\n",
      " Values Count of sold_as_vacant After replacing:\n",
      "sold_as_vacant\n",
      "No     51802\n",
      "Yes     4675\n",
      "Name: count, dtype: int64\n"
     ]
    }
   ],
   "source": [
    "print(\" Values Count of sold_as_vacant before replacing:\")\n",
    "print(df['sold_as_vacant'].value_counts())\n",
    "\n",
    "# Replace 'Y' with 'Yes' and 'N' with 'No' in the 'sold_as_vacant' column\n",
    "df['sold_as_vacant'].replace({'Y': 'Yes', 'N': 'No'}, inplace=True)\n",
    "\n",
    "# Use `value_counts()` to verify the updated counts for 'Yes' and 'No' in the 'sold_as_vacant' column.\n",
    "print(\" Values Count of sold_as_vacant After replacing:\")\n",
    "print(df['sold_as_vacant'].value_counts())"
   ]
  },
  {
   "cell_type": "markdown",
   "metadata": {},
   "source": [
    "\n",
    "**unique_id:** this is the primary key of this table. We found no duplicates in this column, but we found that there are 3 entries that have missing values for their unique_id. The next action is we are going to remove the entries with missing unique_id.\n"
   ]
  },
  {
   "cell_type": "code",
   "execution_count": 5,
   "metadata": {},
   "outputs": [],
   "source": [
    "# Finding Duplicated ID\n",
    "grouped = df.groupby('unique_id').size()\n",
    "duplicate_unique_ids = grouped[grouped > 1]\n",
    "# Find rows where 'UniqueID ' column is null\n",
    "missing_unique_id = df[df['unique_id'].isnull()]\n",
    "# Drop rows where 'UniqueID ' column is null\n",
    "df = df.dropna(subset=['unique_id'])"
   ]
  },
  {
   "cell_type": "markdown",
   "metadata": {},
   "source": [
    "**land_use:** this is the column that holds the information on land use types across the housing sales. We found several categories that were duplicated or had typos in them, thus we altered the incorrect entries to their respective categories. \n",
    "One of the examples is there are entries of “VACANT RESIDENTIAL LAND”, “VACANT RES LAND”, and “VACANT RESIENTIAL LAND”, where the three of them should have been treated as one category, e.g. **“VACANT RESIDENTIAL LAND”**. The data cleaning process had reduced incorrectly labeled categories from 39 to 22."
   ]
  },
  {
   "cell_type": "code",
   "execution_count": 6,
   "metadata": {},
   "outputs": [
    {
     "data": {
      "text/plain": [
       "array(['SINGLE FAMILY', 'RESIDENTIAL CONDO', 'VACANT RURAL LAND',\n",
       "       'VACANT RES LAND', 'DUPLEX', 'VACANT RESIDENTIAL LAND', 'CHURCH',\n",
       "       'ZERO LOT LINE', 'RESIDENTIAL COMBO/MISC', 'PARSONAGE',\n",
       "       'OFFICE BLDG (ONE OR TWO STORIES)',\n",
       "       'GREENBELT/RES\\r\\nGRRENBELT/RES', 'MOBILE HOME', 'PARKING LOT',\n",
       "       'CLUB/UNION HALL/LODGE', 'TRIPLEX', 'VACANT ZONED MULTI FAMILY',\n",
       "       'SPLIT CLASS', 'CONDO', 'QUADPLEX', 'LIGHT MANUFACTURING',\n",
       "       'FOREST', 'CONVENIENCE MARKET WITHOUT GAS',\n",
       "       'DORMITORY/BOARDING HOUSE', 'GREENBELT', 'DAY CARE CENTER',\n",
       "       'METRO OTHER THAN OFC, SCHOOL,HOSP, OR PARK',\n",
       "       'TERMINAL/DISTRIBUTION WAREHOUSE', 'NIGHTCLUB/LOUNGE',\n",
       "       'RESTURANT/CAFETERIA', 'VACANT COMMERCIAL LAND',\n",
       "       'CONDOMINIUM OFC  OR OTHER COM CONDO', 'STRIP SHOPPING CENTER',\n",
       "       'VACANT RESIENTIAL LAND', 'APARTMENT: LOW RISE (BUILT SINCE 1960)',\n",
       "       'ONE STORY GENERAL RETAIL STORE', 'NON-PROFIT CHARITABLE SERVICE',\n",
       "       'SMALL SERVICE SHOP', 'MORTUARY/CEMETERY'], dtype=object)"
      ]
     },
     "execution_count": 6,
     "metadata": {},
     "output_type": "execute_result"
    }
   ],
   "source": [
    "#This returns several incorrect entries, such as having typo or abbreviated\n",
    "df['land_use'].unique()"
   ]
  },
  {
   "cell_type": "code",
   "execution_count": 7,
   "metadata": {},
   "outputs": [],
   "source": [
    "# Replace 'RESTURANT/CAFETERIA' with 'RESTAURANT' in the 'land_use' column\n",
    "df['land_use'] = df['land_use'].replace('RESTURANT/CAFETERIA', 'RESTAURANT')\n",
    "\n",
    "# Replace 'FOREST' and 'GREENBELT/RES' with 'GREENBELT' in the 'land_use' column\n",
    "df['land_use'] = df['land_use'].replace(['FOREST', 'GREENBELT/RES','GREENBELT/RES\\r\\nGRRENBELT/RES'], 'GREENBELT')\n",
    "\n",
    "# Replace categories using the defined mapping\n",
    "df['land_use'] = df['land_use'].replace(['RESIDENTIAL CONDO','CONDOMINIUM OFC OR OTHER COM CONDO', 'RESIDENTIAL COMBO/MISC'],'CONDOMINIUM')\n",
    "\n",
    "# Replace each low-rise apartment-related land use category separately\n",
    "df['land_use'] = df['land_use'].replace(['APARTMENT: LOW RISE (BUILT SINCE 1960)','SPLIT CLASS'], 'LOW RISE APARTMENT')\n",
    "\n",
    "# Replace each night entertainment-related land use category separately\n",
    "\n",
    "df['land_use'] = df['land_use'].replace(['NIGHTCLUB/LOUNGE','CLUB/UNION HALL/LODGE'] , 'NIGHT ENTERTAINMENT')\n",
    "\n",
    "# Replace the typo in the 'land_use' column\n",
    "df['land_use'] = df['land_use'].replace('OFFICE BLDG (ONE OR TWO STORIES)', 'OFFICE')\n",
    "\n",
    "# Replace the transportation-related land use category with 'TRANSPORTATION'\n",
    "df['land_use'] = df['land_use'].replace('METRO OTHER THAN OFC, SCHOOL,HOSP, OR PARK', 'TRANSPORTATION')\n",
    "\n",
    "# Replace the distribution-related land use category with 'DISTRIBUTION'\n",
    "df['land_use'] = df['land_use'].replace('TERMINAL/DISTRIBUTION WAREHOUSE', 'DISTRIBUTION')\n",
    "\n",
    "# Replace the commercial-related land use categories with 'COMMERCIAL LAND'\n",
    "commercial_land_use = [\n",
    "    'ONE STORY GENERAL RETAIL STORE',\n",
    "    'SMALL SERVICE SHOP',\n",
    "    'CONVENIENCE MARKET WITHOUT GAS',\n",
    "    'STRIP SHOPPING CENTER',\n",
    "    'DAY CARE CENTER',\n",
    "    'LIGHT MANUFACTURING',\n",
    "    'PARKING LOT',\n",
    "    'RESTAURANT'\n",
    "]\n",
    "df['land_use'] = df['land_use'].replace(commercial_land_use, 'COMMERCIAL LAND')"
   ]
  },
  {
   "cell_type": "code",
   "execution_count": 8,
   "metadata": {},
   "outputs": [
    {
     "data": {
      "text/plain": [
       "array(['SINGLE FAMILY', 'CONDOMINIUM', 'VACANT RURAL LAND',\n",
       "       'VACANT RES LAND', 'DUPLEX', 'VACANT RESIDENTIAL LAND', 'CHURCH',\n",
       "       'ZERO LOT LINE', 'PARSONAGE', 'OFFICE', 'GREENBELT', 'MOBILE HOME',\n",
       "       'COMMERCIAL LAND', 'NIGHT ENTERTAINMENT', 'TRIPLEX',\n",
       "       'VACANT ZONED MULTI FAMILY', 'LOW RISE APARTMENT', 'CONDO',\n",
       "       'QUADPLEX', 'DORMITORY/BOARDING HOUSE', 'TRANSPORTATION',\n",
       "       'DISTRIBUTION', 'VACANT COMMERCIAL LAND',\n",
       "       'CONDOMINIUM OFC  OR OTHER COM CONDO', 'VACANT RESIENTIAL LAND',\n",
       "       'NON-PROFIT CHARITABLE SERVICE', 'MORTUARY/CEMETERY'], dtype=object)"
      ]
     },
     "execution_count": 8,
     "metadata": {},
     "output_type": "execute_result"
    }
   ],
   "source": [
    "# land_use columns unique values after cleaning\n",
    "df['land_use'].unique()"
   ]
  },
  {
   "cell_type": "markdown",
   "metadata": {},
   "source": [
    "**land_value and building_value:** these are the columns that contain the information on the land and building valuation, and they will be used together to calculate the profit from the sale value. According to our query, it is found nearly 54% of our data had missing land and building values. Thus, we are going to remove the rows that contain null values to ensure our insight quality( the same for city and sale_price)"
   ]
  },
  {
   "cell_type": "code",
   "execution_count": 9,
   "metadata": {},
   "outputs": [
    {
     "name": "stdout",
     "output_type": "stream",
     "text": [
      "Data dimentions before cleaning :(56477, 21)\n",
      "Data dimentions after cleaning :(25991, 21)\n"
     ]
    }
   ],
   "source": [
    "print(f\"Data dimentions before cleaning :{df.shape}\")\n",
    "#  Remove entries with missing land_value and building_value\n",
    "df = df.dropna(subset=['land_value', 'building_value','city','sale_price'])\n",
    "\n",
    "print(f\"Data dimentions after cleaning :{df.shape}\")"
   ]
  },
  {
   "cell_type": "markdown",
   "metadata": {},
   "source": [
    "### Data Analysis and Processing\n",
    "The first analysis will be the answer to the question of ‘How is the business condition in terms of profit growth in the last few years?’ and it will be achieved through deducing land value and building value from the sale value."
   ]
  },
  {
   "cell_type": "code",
   "execution_count": 10,
   "metadata": {},
   "outputs": [
    {
     "name": "stdout",
     "output_type": "stream",
     "text": [
      "   year       profit\n",
      "0  2013  -62673914.0\n",
      "1  2014  173295933.0\n",
      "2  2015  535178522.0\n",
      "3  2016  676940295.0\n",
      "4  2019      29000.0\n"
     ]
    }
   ],
   "source": [
    "# Drop rows with NaN values in 'sale_price', 'land_value', or 'building_value'\n",
    "df.dropna(subset=['sale_price', 'land_value', 'building_value'], inplace=True)\n",
    "\n",
    "# Calculate profit for each sale\n",
    "df['profit'] = df['sale_price'] - df['land_value'] - df['building_value']\n",
    "\n",
    "# Extract year from sale_date\n",
    "df['year'] = df['sale_date'].dt.year\n",
    "\n",
    "# Group by year and calculate total profit\n",
    "profit_by_year = df.groupby('year')['profit'].sum().reset_index()\n",
    "\n",
    "# Sort by year in ascending order\n",
    "profit_by_year = profit_by_year.sort_values(by='year')\n",
    "print(profit_by_year)"
   ]
  },
  {
   "cell_type": "markdown",
   "metadata": {},
   "source": [
    "However, it can be observed that there is no data available for the years 2017 to 2018. Further investigation is needed to uncover the underlying reasons for this absence of data during that specific time period. Possible explanations may include business inactivity, data storage issues, or other factors. Nevertheless, given the nature of the data source and the scope of this project, our focus will be directed towards analyzing the data from 2013 to 2016."
   ]
  },
  {
   "cell_type": "code",
   "execution_count": 11,
   "metadata": {},
   "outputs": [
    {
     "name": "stdout",
     "output_type": "stream",
     "text": [
      "   Year       Profit\n",
      "3  2016  676940295.0\n",
      "2  2015  535178522.0\n",
      "1  2014  173295933.0\n",
      "0  2013  -62673914.0\n"
     ]
    }
   ],
   "source": [
    "\n",
    "# Filter out data for the year 2019\n",
    "df_filtered= df[df['sale_date'].dt.year != 2019].copy()\n",
    "\n",
    "# Calculate profit for each sale\n",
    "df_filtered['profit'] = df_filtered['sale_price'] - df_filtered['land_value'] - df_filtered['building_value']\n",
    "\n",
    "# Group by year and calculate total profit\n",
    "profit_by_year = df_filtered.groupby(df['sale_date'].dt.year)['profit'].sum().reset_index()\n",
    "\n",
    "# Sort by year in descending order\n",
    "profit_by_year = profit_by_year.sort_values(by='sale_date', ascending=False)\n",
    "\n",
    "# Rename columns to match the SQL query\n",
    "profit_by_year.rename(columns={'sale_date': 'Year', 'profit': 'Profit'}, inplace=True)\n",
    "\n",
    "# Print the result\n",
    "print(profit_by_year)\n"
   ]
  },
  {
   "cell_type": "markdown",
   "metadata": {},
   "source": [
    "The second analysis is to find the most suitable type of land use to be the business focus. To address this question, we will retrieve the number of each type of land use for each year, and then compare the numbers."
   ]
  },
  {
   "cell_type": "code",
   "execution_count": 12,
   "metadata": {},
   "outputs": [
    {
     "data": {
      "text/html": [
       "<div>\n",
       "<style scoped>\n",
       "    .dataframe tbody tr th:only-of-type {\n",
       "        vertical-align: middle;\n",
       "    }\n",
       "\n",
       "    .dataframe tbody tr th {\n",
       "        vertical-align: top;\n",
       "    }\n",
       "\n",
       "    .dataframe thead th {\n",
       "        text-align: right;\n",
       "    }\n",
       "</style>\n",
       "<table border=\"1\" class=\"dataframe\">\n",
       "  <thead>\n",
       "    <tr style=\"text-align: right;\">\n",
       "      <th></th>\n",
       "      <th>Year</th>\n",
       "      <th>Land Use Type</th>\n",
       "      <th>Land Use Rate</th>\n",
       "    </tr>\n",
       "  </thead>\n",
       "  <tbody>\n",
       "    <tr>\n",
       "      <th>47</th>\n",
       "      <td>2015</td>\n",
       "      <td>SINGLE FAMILY</td>\n",
       "      <td>6273</td>\n",
       "    </tr>\n",
       "    <tr>\n",
       "      <th>66</th>\n",
       "      <td>2016</td>\n",
       "      <td>SINGLE FAMILY</td>\n",
       "      <td>5485</td>\n",
       "    </tr>\n",
       "    <tr>\n",
       "      <th>29</th>\n",
       "      <td>2014</td>\n",
       "      <td>SINGLE FAMILY</td>\n",
       "      <td>5479</td>\n",
       "    </tr>\n",
       "    <tr>\n",
       "      <th>10</th>\n",
       "      <td>2013</td>\n",
       "      <td>SINGLE FAMILY</td>\n",
       "      <td>4617</td>\n",
       "    </tr>\n",
       "    <tr>\n",
       "      <th>50</th>\n",
       "      <td>2015</td>\n",
       "      <td>VACANT RESIDENTIAL LAND</td>\n",
       "      <td>498</td>\n",
       "    </tr>\n",
       "    <tr>\n",
       "      <th>...</th>\n",
       "      <td>...</td>\n",
       "      <td>...</td>\n",
       "      <td>...</td>\n",
       "    </tr>\n",
       "    <tr>\n",
       "      <th>48</th>\n",
       "      <td>2015</td>\n",
       "      <td>TRANSPORTATION</td>\n",
       "      <td>1</td>\n",
       "    </tr>\n",
       "    <tr>\n",
       "      <th>25</th>\n",
       "      <td>2014</td>\n",
       "      <td>NIGHT ENTERTAINMENT</td>\n",
       "      <td>1</td>\n",
       "    </tr>\n",
       "    <tr>\n",
       "      <th>54</th>\n",
       "      <td>2016</td>\n",
       "      <td>COMMERCIAL LAND</td>\n",
       "      <td>1</td>\n",
       "    </tr>\n",
       "    <tr>\n",
       "      <th>26</th>\n",
       "      <td>2014</td>\n",
       "      <td>OFFICE</td>\n",
       "      <td>1</td>\n",
       "    </tr>\n",
       "    <tr>\n",
       "      <th>61</th>\n",
       "      <td>2016</td>\n",
       "      <td>MORTUARY/CEMETERY</td>\n",
       "      <td>1</td>\n",
       "    </tr>\n",
       "  </tbody>\n",
       "</table>\n",
       "<p>72 rows × 3 columns</p>\n",
       "</div>"
      ],
      "text/plain": [
       "    Year            Land Use Type  Land Use Rate\n",
       "47  2015            SINGLE FAMILY           6273\n",
       "66  2016            SINGLE FAMILY           5485\n",
       "29  2014            SINGLE FAMILY           5479\n",
       "10  2013            SINGLE FAMILY           4617\n",
       "50  2015  VACANT RESIDENTIAL LAND            498\n",
       "..   ...                      ...            ...\n",
       "48  2015           TRANSPORTATION              1\n",
       "25  2014      NIGHT ENTERTAINMENT              1\n",
       "54  2016          COMMERCIAL LAND              1\n",
       "26  2014                   OFFICE              1\n",
       "61  2016        MORTUARY/CEMETERY              1\n",
       "\n",
       "[72 rows x 3 columns]"
      ]
     },
     "execution_count": 12,
     "metadata": {},
     "output_type": "execute_result"
    }
   ],
   "source": [
    "\"\"\"This code filters out the data for the year 2019, groups the data by year and land_use,\n",
    "    calculates the count of each land_use type, renames the columns to match the SQL query,\n",
    "    and sorts the results by year in descending order. Finally, it print#s the result.\"\"\"\n",
    "\n",
    "# Group by year and land_use, then calculate the count of each land_use type\n",
    "count_per_land_use = df_filtered.groupby([df_filtered['sale_date'].dt.year, 'land_use']).size().reset_index(name='Land Use Rate')\n",
    "\n",
    "# Rename columns \n",
    "count_per_land_use.rename(columns={'sale_date': 'Year', 'land_use': 'Land Use Type'}, inplace=True)\n",
    "\n",
    "# Sort by year in descending order\n",
    "count_per_land_use = count_per_land_use.sort_values(by='Land Use Rate', ascending=False)\n",
    "count_per_land_use\n",
    "# Print the result"
   ]
  },
  {
   "cell_type": "markdown",
   "metadata": {},
   "source": [
    "In addition to comparing the rate of the land use types, we also need to consider it from a sales perspective. Here, we will analyze it based on the total revenue generated by each of the land uses."
   ]
  },
  {
   "cell_type": "code",
   "execution_count": 13,
   "metadata": {},
   "outputs": [
    {
     "name": "stdout",
     "output_type": "stream",
     "text": [
      "    Year              Land Use Type  Revenue per Land Use\n",
      "71  2016              ZERO LOT LINE            31904793.0\n",
      "62  2016        NIGHT ENTERTAINMENT              230000.0\n",
      "53  2016                     CHURCH             4905000.0\n",
      "54  2016            COMMERCIAL LAND              375000.0\n",
      "56  2016   DORMITORY/BOARDING HOUSE             1858000.0\n",
      "..   ...                        ...                   ...\n",
      "13  2013            VACANT RES LAND            60515479.0\n",
      "14  2013          VACANT RURAL LAND              250000.0\n",
      "15  2013  VACANT ZONED MULTI FAMILY               24000.0\n",
      "16  2013              ZERO LOT LINE            15386357.0\n",
      "0   2013                     CHURCH              715000.0\n",
      "\n",
      "[72 rows x 3 columns]\n"
     ]
    }
   ],
   "source": [
    "\"\"\"\"This code will filter out the data for the year 2019, group the data by year and land_use, \n",
    "    calculate the sum of sale_price for each land_use type, rename the columns to match the SQL query, \n",
    "    sort the results by year in descending order, and finally print the result.\"\"\"\n",
    "\n",
    "# Group by year and land_use, then calculate the sum of sale_price for each land_use type\n",
    "revenue_per_land_use = df_filtered.groupby([df_filtered['sale_date'].dt.year, 'land_use'])['sale_price'].sum().reset_index(name='Revenue per Land Use')\n",
    "\n",
    "# Rename columns to match the SQL query\n",
    "revenue_per_land_use.rename(columns={'sale_date': 'Year', 'land_use': 'Land Use Type'}, inplace=True)\n",
    "\n",
    "# Sort by year in descending order\n",
    "revenue_per_land_use = revenue_per_land_use.sort_values(by='Year', ascending=False)\n",
    "# Print the result\n",
    "print(revenue_per_land_use)"
   ]
  },
  {
   "cell_type": "code",
   "execution_count": 14,
   "metadata": {},
   "outputs": [],
   "source": [
    "# Save cleaned data to a new CSV file\n",
    "\n",
    "cleaned_file_path ='Cleaned_Nashville.csv'\n",
    "df.to_csv(cleaned_file_path, index=False)"
   ]
  }
 ],
 "metadata": {
  "kernelspec": {
   "display_name": "Python 3",
   "language": "python",
   "name": "python3"
  },
  "language_info": {
   "codemirror_mode": {
    "name": "ipython",
    "version": 3
   },
   "file_extension": ".py",
   "mimetype": "text/x-python",
   "name": "python",
   "nbconvert_exporter": "python",
   "pygments_lexer": "ipython3",
   "version": "3.11.9"
  }
 },
 "nbformat": 4,
 "nbformat_minor": 2
}
